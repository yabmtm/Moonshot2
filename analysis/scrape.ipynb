{
 "cells": [
  {
   "cell_type": "code",
   "execution_count": 1,
   "metadata": {},
   "outputs": [
    {
     "name": "stdout",
     "output_type": "stream",
     "text": [
      "plot_ee_trace_bias.ipynb  qsub.sh  \u001b[0m\u001b[34;42mREF_L\u001b[0m/  \u001b[34;42mREF_RL\u001b[0m/\r\n"
     ]
    }
   ],
   "source": [
    "%ls\n",
    "import matplotlib.pyplot as plt\n",
    "from matplotlib import rc\n",
    "from matplotlib import cm\n",
    "from matplotlib import gridspec\n",
    "import numpy as np\n",
    "import pandas as pd\n",
    "import subprocess, collections\n",
    "import glob, tqdm, os\n",
    "rc('font', weight='bold')"
   ]
  },
  {
   "cell_type": "code",
   "execution_count": 7,
   "metadata": {},
   "outputs": [
    {
     "name": "stdout",
     "output_type": "stream",
     "text": [
      "Processing RUN0\n"
     ]
    },
    {
     "name": "stderr",
     "output_type": "stream",
     "text": [
      "16580373it [00:22, 723616.90it/s]\n"
     ]
    },
    {
     "name": "stdout",
     "output_type": "stream",
     "text": [
      "(139083, 99)\n",
      "RUN0 14.995130000000017\n",
      "DONE\n",
      "Processing RUN1\n"
     ]
    },
    {
     "name": "stderr",
     "output_type": "stream",
     "text": [
      "16848887it [00:23, 715500.50it/s]\n"
     ]
    },
    {
     "name": "stdout",
     "output_type": "stream",
     "text": [
      "(141336, 99)\n",
      "RUN1 11.844259999999991\n",
      "DONE\n",
      "Processing RUN2\n"
     ]
    },
    {
     "name": "stderr",
     "output_type": "stream",
     "text": [
      "17848557it [00:25, 709254.11it/s]\n"
     ]
    },
    {
     "name": "stdout",
     "output_type": "stream",
     "text": [
      "(149723, 99)\n",
      "RUN2 17.418320000000023\n",
      "DONE\n",
      "Processing RUN0\n"
     ]
    },
    {
     "name": "stderr",
     "output_type": "stream",
     "text": [
      "3213666it [00:05, 570547.64it/s]\n"
     ]
    },
    {
     "name": "stdout",
     "output_type": "stream",
     "text": [
      "(26544, 99)\n",
      "RUN0 11.452910000000003\n",
      "DONE\n",
      "Processing RUN1\n"
     ]
    },
    {
     "name": "stderr",
     "output_type": "stream",
     "text": [
      "3468000it [00:05, 607545.90it/s]\n"
     ]
    },
    {
     "name": "stdout",
     "output_type": "stream",
     "text": [
      "(28695, 99)\n",
      "RUN1 3.3804599999999994\n",
      "DONE\n",
      "Processing RUN2\n"
     ]
    },
    {
     "name": "stderr",
     "output_type": "stream",
     "text": [
      "3816057it [00:06, 587130.72it/s]\n"
     ]
    },
    {
     "name": "stdout",
     "output_type": "stream",
     "text": [
      "(31521, 99)\n",
      "RUN2 9.897140000000007\n",
      "DONE\n"
     ]
    }
   ],
   "source": [
    "\n",
    "RL_project, L_project = 'REF_RL', 'REF_L'\n",
    "last_nanoseconds = 25\n",
    "cutoff = 10\n",
    "\n",
    "if not os.path.exists('plots'):\n",
    "    os.makedirs('plots')\n",
    "\n",
    "for project in [RL_project,L_project]:\n",
    "    if project == RL_project:\n",
    "        project_type = 'RL'\n",
    "        swaps_per_ns = 2000 # 4fs :: 1000 : 2fs\n",
    "        lambdas = 99\n",
    "        fe_ndx = 6\n",
    "    elif project == L_project:\n",
    "        project_type = 'L'\n",
    "        swaps_per_ns = 2000 # 4fs\n",
    "        lambdas = 99\n",
    "        fe_ndx = 6\n",
    "        \n",
    "    prefix = '.' #CLONE0' #f'/home/yabmtm/Downloads/RL_logs' #f'p{project}'# I use this so it's more portable\n",
    "    \n",
    "    for x in range(3): #range(len(glob.glob(f'{prefix}/RUN*'))):\n",
    "        run = f'RUN{x}'\n",
    "        print(f'Processing {run}')\n",
    "        if not os.path.exists(f'{prefix}/{project}/{run}/md.log'):\n",
    "            print(f'Missing {prefix}/{project}/{run}/md.log')\n",
    "            continue\n",
    "        increments, lambda_indices, frame_energies, free_energies, matrices = [],[],[],[],[]\n",
    "        read_energies, read_matrix = False, False\n",
    "        for line in tqdm.tqdm(open(f'{prefix}/{project}/{run}/md.log')):\n",
    "            if 'Wang-Landau incrementor is:' in line:\n",
    "                increments.append(float(line.split()[-1]))\n",
    "            elif '<<' in line:\n",
    "                lambda_indices.append(int(line.split()[0]))\n",
    "            if f'1  0.000  0.000  0.000' in line:\n",
    "                read_energies = True\n",
    "            if read_energies:\n",
    "                try:\n",
    "                    frame_energies.append(float(line.split()[fe_ndx]))\n",
    "                except Exception as e:\n",
    "                    print(line.split())\n",
    "            if len(frame_energies) == lambdas:\n",
    "                free_energies.append(frame_energies)\n",
    "                frame_energies, read_energies = [],False\n",
    "            if '                     Transition Matrix' in line:\n",
    "                read_matrix = True\n",
    "                matrices.append([])\n",
    "            if read_matrix:\n",
    "                matrices[-1].append(line.split()[:-1])\n",
    "                if len(matrices[-1]) == lambdas:\n",
    "                    matrices[-1] = [[float(x)*100 for x in line] for line in matrices[-1][2:]]\n",
    "                    read_matrix = False\n",
    "\n",
    "        free_energies = np.asarray(free_energies)\n",
    "        # ndx = int(z*swaps_per_ns)\n",
    "        try:\n",
    "            print(np.shape(free_energies))\n",
    "            last_energies = free_energies[len(free_energies)-int(\n",
    "              swaps_per_ns * last_nanoseconds):][:,-1]\n",
    "        except Exception as e:\n",
    "            print(e)\n",
    "            continue\n",
    "        end_variance = max(last_energies) - min(last_energies)\n",
    "        print(run, end_variance)\n",
    "        if 1: #end_variance < cutoff:\n",
    "          #  try:\n",
    "                np.save(f'{prefix}/{project}_RUN{x}_feb.npy', free_energies[::10])\n",
    "                np.save(f'{prefix}/{project}_RUN{x}_lam.npy', lambda_indices[::10])\n",
    "                np.save(f'{prefix}/{project}_RUN{x}_inc.npy', increments[::10])\n",
    "\n",
    "            # plot lambda index over time colored by bias magnitude\n",
    "                plt.figure(figsize=(18,10))\n",
    "                gs = gridspec.GridSpec(2, 2, width_ratios=[5,2]) \n",
    "                lambda_indices = [int(x) for x in lambda_indices]\n",
    "                occurrences = collections.Counter(lambda_indices)\n",
    "                keys = list(occurrences.keys())\n",
    "                occurrences = [occurrences[x] for x in occurrences]\n",
    "                min_sampled_lam = keys[occurrences.index(min(occurrences))]\n",
    "                weights = list(reversed(sorted(set(increments))))\n",
    "                colors = cm.rainbow(np.linspace(1,0,len(weights)))\n",
    "                scatter_colors = [colors[weights.index(x)] for x in increments]\n",
    "                ax2 = plt.subplot(gs[0])\n",
    "                ax2.scatter(range(len(free_energies)), free_energies[:,-1], s=6, c=scatter_colors)\n",
    "                ax2.set_ylim(free_energies[:,-1][-1]-20,free_energies[:,-1][-1]+20)\n",
    "                ax3 = plt.subplot(gs[1])\n",
    "                ax3.matshow(matrices[-1], cmap=plt.cm.viridis)\n",
    "                ax0 = plt.subplot(gs[2])\n",
    "                ax0.scatter(range(len(lambda_indices)), lambda_indices, s=6, c=scatter_colors)\n",
    "                #print(min_sampled_lam,min(occurrences))\n",
    "                ax2.axhline(y=np.average(free_energies[:,-1])) #min_sampled_lam)\n",
    "                ax0.axhline(y=min_sampled_lam)\n",
    "                ax0.set_xlabel('Frame Index')\n",
    "                ax0.set_ylabel('Lambda Index')\n",
    "                ax0.set_title(f'Lambda Trace for {run}')\n",
    "\n",
    "                # plot weighted histogram of lambda indexes colored by bias magnitude\n",
    "                ax1 = plt.subplot(gs[3])\n",
    "                barWidth = 1\n",
    "                increments = [float(x) for x in increments]\n",
    "                cumulative_heights = [0 for x in range(lambdas)]\n",
    "                for z,i in enumerate(reversed(sorted(set(increments)))):\n",
    "                    wl_increment_indices = [x for x in range(len(increments)) if increments[x] == i]\n",
    "                    lambda_indices_inc = [lambda_indices[x] for x in wl_increment_indices]\n",
    "                    occurrences = collections.Counter(lambda_indices_inc)\n",
    "                    heights = [occurrences[x]*i for x in range(1,lambdas+1)]\n",
    "                    try:\n",
    "                        ax1.bar(range(1,lambdas+1), heights, bottom=cumulative_heights, color=colors[z], width=barWidth)\n",
    "                    except Exception as e:\n",
    "                        print(e, len(heights), len(colors))\n",
    "                        continue\n",
    "                    cumulative_heights = [cumulative_heights[x] + heights[x] for x in range(lambdas)]\n",
    "                ax1.set_xlabel('Lambda Index')\n",
    "                ax1.set_ylabel('Cumulative Bias (kT)')\n",
    "                ax1.set_title(f'Weighted Histogram of Sampling for {run}')\n",
    "                plt.tight_layout()\n",
    "                plt.savefig(f'plots/{project}_{run}.png')\n",
    "                print('DONE')\n",
    "                plt.close()\n",
    "          #  except Exception as e:\n",
    "          #      print('p{project}/RUN{run} Failed to plot.')\n",
    "          #      continue"
   ]
  },
  {
   "cell_type": "code",
   "execution_count": null,
   "metadata": {},
   "outputs": [],
   "source": []
  },
  {
   "cell_type": "code",
   "execution_count": null,
   "metadata": {},
   "outputs": [],
   "source": []
  },
  {
   "cell_type": "code",
   "execution_count": null,
   "metadata": {},
   "outputs": [],
   "source": []
  },
  {
   "cell_type": "code",
   "execution_count": null,
   "metadata": {},
   "outputs": [],
   "source": []
  },
  {
   "cell_type": "code",
   "execution_count": null,
   "metadata": {},
   "outputs": [],
   "source": []
  },
  {
   "cell_type": "code",
   "execution_count": null,
   "metadata": {},
   "outputs": [],
   "source": []
  },
  {
   "cell_type": "code",
   "execution_count": null,
   "metadata": {},
   "outputs": [],
   "source": []
  },
  {
   "cell_type": "code",
   "execution_count": null,
   "metadata": {},
   "outputs": [],
   "source": []
  }
 ],
 "metadata": {
  "kernelspec": {
   "display_name": "Python 3",
   "language": "python",
   "name": "python3"
  },
  "language_info": {
   "codemirror_mode": {
    "name": "ipython",
    "version": 3
   },
   "file_extension": ".py",
   "mimetype": "text/x-python",
   "name": "python",
   "nbconvert_exporter": "python",
   "pygments_lexer": "ipython3",
   "version": "3.6.13"
  }
 },
 "nbformat": 4,
 "nbformat_minor": 4
}
